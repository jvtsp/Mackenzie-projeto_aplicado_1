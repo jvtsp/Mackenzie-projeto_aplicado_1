{
 "cells": [
  {
   "cell_type": "code",
   "execution_count": 15,
   "metadata": {},
   "outputs": [],
   "source": [
    "#Importando Bibliotecas\n",
    "import tweepy as tw\n",
    "import pandas as pd\n",
    "import openpyxl\n",
    "import numpy as np\n",
    "import time\n",
    "import datetime\n"
   ]
  },
  {
   "cell_type": "code",
   "execution_count": 16,
   "metadata": {},
   "outputs": [],
   "source": [
    "#Adicionando códigos de acesso ao projeto no Twitter API\n",
    "bearer_token = 'AAAAAAAAAAAAAAAAAAAAAN%2B9gAEAAAAAVonmr3ZvyFhm9cr994w262Je8TM%3DFd3k898xL382XRqMkJad7Kw2gbwtBb6HzexrkwQygd2WTVwTEn'\n",
    "consumer_key = 'LyeD5i9norPojsmWn0Gxw4CCZ'\n",
    "consumer_secret = 'zsMNWuCLWz6ym8MOS4o6N2yliCuxIdomQuv9Nww1NMh3VwEM7d'\n",
    "access_token = '867537376108843008-9SUavEVkWjXbsg63LCpxqUEtjYj07dm'\n",
    "access_token_secret = 'OFqkBJjWuXCw23XCUNj0f9ymeiHrO461NM2NGdjpNIQCQ'\n"
   ]
  },
  {
   "cell_type": "code",
   "execution_count": 17,
   "metadata": {},
   "outputs": [],
   "source": [
    "#Criando conexão com o Twitter API\n",
    "auth = tw.OAuthHandler(consumer_key, consumer_secret)\n",
    "auth.set_access_token(access_token,access_token_secret)\n",
    "api = tw.API(auth, wait_on_rate_limit=True)"
   ]
  },
  {
   "cell_type": "code",
   "execution_count": 18,
   "metadata": {},
   "outputs": [],
   "source": [
    "#Função para capturar 10mil tweets\n",
    "def get_related_tweets(key_word):\n",
    "    twitter_users = []\n",
    "    tweet_time = []\n",
    "    tweet_string = [] \n",
    "    tweet_source = [] \n",
    "    tweet_likes = [] \n",
    "    tweet_rts = [] \n",
    "    tweet_localization = []   \n",
    "\n",
    "    for tweet in tw.Cursor(api.search_tweets,q=key_word, count=100).items(10000):\n",
    "        # Tweets somente em português\n",
    "        # Somente os tweet originais, ignorando os retweets\n",
    "        if (not tweet.retweeted) and ('RT @' not in tweet.text):\n",
    "            # Tweets somente em português\n",
    "            if tweet.lang == \"pt\":\n",
    "            # Tweeter's usuário \n",
    "                twitter_users.append(tweet.user.name)\n",
    "                # Data da criação do Tweet\n",
    "                tweet_time.append(tweet.created_at)\n",
    "                # Texto do Tweet\n",
    "                tweet_string.append(tweet.text)\n",
    "                #Origem do Tweet\n",
    "                tweet_source.append(tweet.source)\n",
    "                #Quantidade de Likes\n",
    "                tweet_likes.append(tweet.favorite_count)\n",
    "                #Quantidade de RT's\n",
    "                tweet_rts.append(tweet.retweet_count)\n",
    "                #Localização\n",
    "                tweet_localization.append(tweet.user.location)\n",
    "                #print([tweet.user.name,tweet.created_at,tweet.text,tweet.source,tweet.favorite_count,tweet.retweet_count,tweet.user.location])\n",
    "    # Criando dataframe com os Tweets\n",
    "    df = pd.DataFrame({'name':twitter_users, 'time': tweet_time, 'tweet': tweet_string, 'Source' : tweet_source, 'Likes' : tweet_likes, 'RTs' : tweet_rts, 'Localization' : tweet_localization})\n",
    "    return df"
   ]
  },
  {
   "cell_type": "code",
   "execution_count": 19,
   "metadata": {},
   "outputs": [
    {
     "name": "stderr",
     "output_type": "stream",
     "text": [
      "Rate limit reached. Sleeping for: 551\n"
     ]
    }
   ],
   "source": [
    "result = get_related_tweets('lula')\n"
   ]
  },
  {
   "cell_type": "code",
   "execution_count": 20,
   "metadata": {},
   "outputs": [],
   "source": [
    "result.to_csv('10_11_2022_lula.csv')"
   ]
  },
  {
   "cell_type": "code",
   "execution_count": 21,
   "metadata": {},
   "outputs": [
    {
     "name": "stdout",
     "output_type": "stream",
     "text": [
      "<class 'pandas.core.frame.DataFrame'>\n",
      "RangeIndex: 1470 entries, 0 to 1469\n",
      "Data columns (total 7 columns):\n",
      " #   Column        Non-Null Count  Dtype              \n",
      "---  ------        --------------  -----              \n",
      " 0   name          1470 non-null   object             \n",
      " 1   time          1470 non-null   datetime64[ns, UTC]\n",
      " 2   tweet         1470 non-null   object             \n",
      " 3   Source        1470 non-null   object             \n",
      " 4   Likes         1470 non-null   int64              \n",
      " 5   RTs           1470 non-null   int64              \n",
      " 6   Localization  1470 non-null   object             \n",
      "dtypes: datetime64[ns, UTC](1), int64(2), object(4)\n",
      "memory usage: 80.5+ KB\n"
     ]
    }
   ],
   "source": [
    "result.info()"
   ]
  }
 ],
 "metadata": {
  "kernelspec": {
   "display_name": "Python 3.10.6 64-bit (windows store)",
   "language": "python",
   "name": "python3"
  },
  "language_info": {
   "codemirror_mode": {
    "name": "ipython",
    "version": 3
   },
   "file_extension": ".py",
   "mimetype": "text/x-python",
   "name": "python",
   "nbconvert_exporter": "python",
   "pygments_lexer": "ipython3",
   "version": "3.10.8"
  },
  "orig_nbformat": 4,
  "vscode": {
   "interpreter": {
    "hash": "c407436c842bc8a5727a6fe2bf319abf8771e1f0ad8db25b5f73c57dc15b2311"
   }
  }
 },
 "nbformat": 4,
 "nbformat_minor": 2
}
